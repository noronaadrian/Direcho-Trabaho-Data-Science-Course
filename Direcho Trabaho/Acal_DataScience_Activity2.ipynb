{
 "cells": [
  {
   "cell_type": "code",
   "execution_count": 32,
   "id": "2e2027a1-2b0f-483b-8b1a-ff49297f3561",
   "metadata": {},
   "outputs": [
    {
     "name": "stdout",
     "output_type": "stream",
     "text": [
      "Name:  Lance Adrian Acal\n"
     ]
    },
    {
     "data": {
      "text/plain": [
       "'Lance Adrian Acal'"
      ]
     },
     "execution_count": 32,
     "metadata": {},
     "output_type": "execute_result"
    }
   ],
   "source": [
    "input(str('Name: '))"
   ]
  },
  {
   "cell_type": "markdown",
   "id": "a5c8d4f3-bab5-4b94-8a65-52e367837e80",
   "metadata": {
    "deletable": false,
    "editable": false,
    "slideshow": {
     "slide_type": ""
    },
    "tags": []
   },
   "source": [
    "# Activity 2 (Python Fundamentals II: Data Structures)"
   ]
  },
  {
   "cell_type": "markdown",
   "id": "da89df9e-ad8a-4ca7-873c-cd8e3505fcb5",
   "metadata": {
    "deletable": false,
    "editable": false
   },
   "source": [
    "#### 1. Attendance reconciliation\n",
    "Registered vs actually arrived. Build a dict with name:\"present\"/\"absent\". Count totals and list absentees."
   ]
  },
  {
   "cell_type": "code",
   "execution_count": 2,
   "id": "aeab2b82-04a9-45ae-a019-d955a9f3731a",
   "metadata": {},
   "outputs": [],
   "source": [
    "registered = [\"Ana\",\"Ben\",\"Cara\",\"Dan\",\"Ella\"]\n",
    "arrived    = [\"Ben\",\"Ana\",\"Ella\"]"
   ]
  },
  {
   "cell_type": "code",
   "execution_count": 3,
   "id": "28966dea-0cbc-4c21-b2f4-e7d2009721cb",
   "metadata": {},
   "outputs": [
    {
     "name": "stdout",
     "output_type": "stream",
     "text": [
      "{'Ana': 'Present', 'Ben': 'Present', 'Cara': 'Absent', 'Dan': 'Absent', 'Ella': 'Present'}\n",
      "\n",
      "Total Registered: 5\n",
      "Total Present: 3\n",
      "Total Absent: 2\n"
     ]
    }
   ],
   "source": [
    "attendance = {}\n",
    "\n",
    "for name in registered:\n",
    "    if name in arrived:\n",
    "        attendance[name] = 'Present'\n",
    "    else:\n",
    "        attendance[name] = 'Absent'\n",
    "\n",
    "print(attendance)\n",
    "print()\n",
    "\n",
    "total_registered = (len(registered))\n",
    "total_present = sum(1 for status in attendance.values() if status == \"Present\")\n",
    "total_absent = total_registered - total_present\n",
    "\n",
    "print(f\"Total Registered: {total_registered}\")\n",
    "print(f\"Total Present: {total_present}\")\n",
    "print(f\"Total Absent: {total_absent}\")"
   ]
  },
  {
   "cell_type": "markdown",
   "id": "b94de799-35c3-4ace-afde-22ae5b6d3746",
   "metadata": {
    "deletable": false,
    "editable": false
   },
   "source": [
    "#### 2. Simple loan pre-check\n",
    "Pass if age >= 21 and debt to income ration <= 0.4"
   ]
  },
  {
   "cell_type": "code",
   "execution_count": 4,
   "id": "1de87623-8063-4744-9979-65dec6bb0759",
   "metadata": {},
   "outputs": [],
   "source": [
    "names = [\"Ava\",\"Bo\",\"Cam\",\"Dee\"]\n",
    "ages  = [22,   20,  35,  28]\n",
    "income= [30000,15000,45000, 25000] \n",
    "debt  = [12000, 8000,10000, 12000]"
   ]
  },
  {
   "cell_type": "code",
   "execution_count": 5,
   "id": "941bb2a6-97f3-4368-9aee-f9fe47c45692",
   "metadata": {},
   "outputs": [
    {
     "data": {
      "text/plain": [
       "{'Ava': 'Pass', 'Bo': 'Fail', 'Cam': 'Pass', 'Dee': 'Fail'}"
      ]
     },
     "execution_count": 5,
     "metadata": {},
     "output_type": "execute_result"
    }
   ],
   "source": [
    "loan = {}\n",
    "\n",
    "for i in range(len(names)):\n",
    "    dti = debt[i]/income[i]\n",
    "\n",
    "    if ages[i] >= 21 and dti <= 0.4:\n",
    "        loan[names[i]] = 'Pass'\n",
    "    else:\n",
    "        loan[names[i]] = 'Fail'\n",
    "\n",
    "loan"
   ]
  },
  {
   "cell_type": "markdown",
   "id": "c36fe2aa-5ee0-45bc-9b2f-bacb9f31d32b",
   "metadata": {
    "deletable": false,
    "editable": false
   },
   "source": [
    "#### 3. Packaging Compliance\n",
    "If an order’s weight_kg > 20, mark \"Split required\", else \"OK\". Show unique items that need splitting."
   ]
  },
  {
   "cell_type": "code",
   "execution_count": 7,
   "id": "36d7c74a-cdb7-49ba-a863-a4d2f3b44cee",
   "metadata": {},
   "outputs": [],
   "source": [
    "items = [\"Paper\",\"Ink\",\"Binder\",\"Paper\",\"Stand\"]\n",
    "weights = [12.0, 22.5, 3.0, 25.0, 18.0]"
   ]
  },
  {
   "cell_type": "code",
   "execution_count": 9,
   "id": "6d845236-6b48-40c3-aeda-3ea4ec55f35a",
   "metadata": {},
   "outputs": [
    {
     "data": {
      "text/plain": [
       "{'Paper': 'Split Required',\n",
       " 'Ink': 'Split Required',\n",
       " 'Binder': 'OK',\n",
       " 'Stand': 'OK'}"
      ]
     },
     "execution_count": 9,
     "metadata": {},
     "output_type": "execute_result"
    }
   ],
   "source": [
    "package = {}\n",
    "\n",
    "for item in range(len(items)):\n",
    "    if weights[item] > 20:\n",
    "        package[items[item]] = 'Split Required'\n",
    "    else:\n",
    "        package[items[item]] = 'OK'\n",
    "\n",
    "package"
   ]
  },
  {
   "cell_type": "markdown",
   "id": "b6a97dbb-9761-447d-8c20-566eba9a3832",
   "metadata": {
    "deletable": false,
    "editable": false
   },
   "source": [
    "#### 4. Room Capacity Snapshot\n",
    "Build room:slack record where slack = capacity - assigned. Also collect a set of full rooms."
   ]
  },
  {
   "cell_type": "code",
   "execution_count": 10,
   "id": "aa7945ca-f7e7-4bd6-91b9-6a266b3531ad",
   "metadata": {},
   "outputs": [],
   "source": [
    "rooms     = [\"A\",\"B\",\"C\",\"D\"]\n",
    "capacity  = [30, 20, 25, 10]\n",
    "assigned  = [28, 20, 26,  9]"
   ]
  },
  {
   "cell_type": "code",
   "execution_count": 11,
   "id": "368da435-e4a4-4e53-836e-4893572d7bf4",
   "metadata": {},
   "outputs": [
    {
     "name": "stdout",
     "output_type": "stream",
     "text": [
      "Slack: \n",
      "{'A': 2, 'B': 0, 'C': -1, 'D': 1}\n",
      "\n",
      "Room Availability: \n",
      "{'A': 'Not Full', 'B': 'Full', 'C': 'Full', 'D': 'Not Full'}\n"
     ]
    }
   ],
   "source": [
    "room_capacity = {}\n",
    "slack = {}\n",
    "\n",
    "for room in range(len(rooms)):    \n",
    "    if capacity[room] <= assigned[room]:\n",
    "        room_capacity[rooms[room]] = 'Full'\n",
    "        slack_record = capacity[room] - assigned[room]\n",
    "        slack[rooms[room]] = slack_record\n",
    "        \n",
    "    else:\n",
    "        room_capacity[rooms[room]] = 'Not Full'\n",
    "        slack_record = capacity[room] - assigned[room]\n",
    "        slack[rooms[room]] = slack_record\n",
    "\n",
    "print(\"Slack: \")\n",
    "print(slack)\n",
    "print()\n",
    "print(\"Room Availability: \")\n",
    "print(room_capacity)"
   ]
  },
  {
   "cell_type": "markdown",
   "id": "f7b71c39-f317-463f-9c0b-f6cab4ef343f",
   "metadata": {
    "deletable": false,
    "editable": false
   },
   "source": [
    "#### 5. Survey cleanup and rate\n",
    "Clean responses (which should only be yes/no). Compute yes rate.\n",
    "Notes:\n",
    "- `.strip` method: remove leading and trailing spaces\n",
    "- `.upper()`/ `.lower()` method: converts string to uppercase/lowercase respectively"
   ]
  },
  {
   "cell_type": "code",
   "execution_count": 6,
   "id": "2db9fc65-5b51-44b4-baf8-b2bb75cbe95c",
   "metadata": {},
   "outputs": [],
   "source": [
    "raw_data = [\"Yes\",\"yes \",\" NO\",\"no\",\"YES\",\"No \", '?', 'Maybe', ' YES ']"
   ]
  },
  {
   "cell_type": "code",
   "execution_count": 7,
   "id": "b49f3bb2-773f-4b3d-ab9d-8276192175e0",
   "metadata": {},
   "outputs": [
    {
     "data": {
      "text/plain": [
       "['yes', 'yes', 'no', 'no', 'yes', 'no', '?', 'maybe', 'yes']"
      ]
     },
     "execution_count": 7,
     "metadata": {},
     "output_type": "execute_result"
    }
   ],
   "source": [
    "clean = []\n",
    "\n",
    "for data in raw_data:\n",
    "    clean.append(data.strip().lower())  \n",
    "\n",
    "clean"
   ]
  },
  {
   "cell_type": "code",
   "execution_count": 8,
   "id": "ef871525-b05b-47c1-bb67-009625f3dd33",
   "metadata": {},
   "outputs": [
    {
     "data": {
      "text/plain": [
       "{'yes': 4, 'no': 3, '?': 1, 'maybe': 1}"
      ]
     },
     "execution_count": 8,
     "metadata": {},
     "output_type": "execute_result"
    }
   ],
   "source": [
    "counts = {}\n",
    "\n",
    "for c in clean:\n",
    "        if c in counts:\n",
    "            counts[c] += 1\n",
    "        else:\n",
    "            counts[c] = 1\n",
    "\n",
    "counts"
   ]
  },
  {
   "cell_type": "code",
   "execution_count": 9,
   "id": "21dc1db9-32d4-4410-9ffa-94b40bd13650",
   "metadata": {},
   "outputs": [
    {
     "name": "stdout",
     "output_type": "stream",
     "text": [
      "Yes Rate: 0.44\n"
     ]
    }
   ],
   "source": [
    "yes_count = 0\n",
    "\n",
    "if 'yes' in clean:\n",
    "    yes_count = counts['yes']\n",
    "\n",
    "yes_rate = yes_count/len(clean)\n",
    "\n",
    "print(f\"Yes Rate: {round(yes_rate,2)}\")"
   ]
  },
  {
   "cell_type": "markdown",
   "id": "57dd3a10-a1e6-436a-ab7d-b6d284645752",
   "metadata": {
    "deletable": false,
    "editable": false
   },
   "source": [
    "### Mini Lab 1: Course Scorebook and Riskflags\n",
    "Compute weighted finals and simple risk flags without pandas.\n",
    "Do:\n",
    "- Final scores with their corresponsing weight\n",
    "- final_by_student (dict).\n",
    "- risk_flags (dict): \"At risk\" if final < pass_mark or any component < 60.\n",
    "- Class summary: average final, set of students above 85."
   ]
  },
  {
   "cell_type": "code",
   "execution_count": 11,
   "id": "299c13fd-8db7-4071-bf95-c1c8410da7b6",
   "metadata": {},
   "outputs": [],
   "source": [
    "students = [\"Ava\",\"Bo\",\"Cam\",\"Dee\"]\n",
    "quiz     = [78,    55,  92,   64]\n",
    "project  = [85,    60,  88,   70]\n",
    "exam     = [80,    58,  94,   62]\n",
    "\n",
    "weights = (0.2, 0.3, 0.5)  # (quiz, project, exam) tuple\n",
    "pass_mark = 70"
   ]
  },
  {
   "cell_type": "code",
   "execution_count": 13,
   "id": "8693b36e-60c6-44b4-a623-e663c04d03cc",
   "metadata": {},
   "outputs": [
    {
     "name": "stdout",
     "output_type": "stream",
     "text": [
      "Final Scores by student: {'Ava': 81.1, 'Bo': 58.0, 'Cam': 91.8, 'Dee': 64.8}\n",
      "\n",
      "Risk Flags per student: {'Ava': 'Not at Risk', 'Bo': 'At Risk', 'Cam': 'Not at Risk', 'Dee': 'At Risk'}\n",
      "\n",
      "Students above 85: {'Cam'}\n",
      "\n",
      "Total average of class: 73.92\n"
     ]
    }
   ],
   "source": [
    "final_by_student = {}\n",
    "risk_flags = {}\n",
    "students_above85 = set()\n",
    "\n",
    "q_weight, p_weight, e_weight = weights\n",
    "\n",
    "total_final = 0.0\n",
    "\n",
    "for s, q, p, e in zip(students, quiz, project, exam):\n",
    "\n",
    "    #Final scores of students\n",
    "    final = (q*weights[0]) + (p*p_weight) + (e*e_weight)\n",
    "    final_by_student[s] = final\n",
    "    \n",
    "    total_final += final\n",
    "\n",
    "    #Risk Flag\n",
    "    risky = final < pass_mark or (q < 60) or (p < 60) or (e < 60)\n",
    "    \n",
    "    if risky:\n",
    "        risk_flags[s] = 'At Risk'\n",
    "    else:\n",
    "        risk_flags[s] = 'Not at Risk'\n",
    "\n",
    "    #Students above 85\n",
    "    if final > 85:\n",
    "        students_above85.add(s)       \n",
    "\n",
    "#Final Average\n",
    "final_ave = round(total_final / len(students), 2)\n",
    "    \n",
    "print(f'Final Scores by student: {final_by_student}')\n",
    "print()\n",
    "print(f'Risk Flags per student: {risk_flags}')\n",
    "print()\n",
    "print(f'Students above 85: {students_above85}')\n",
    "print()\n",
    "print(f'Total average of class: {final_ave}')"
   ]
  },
  {
   "cell_type": "markdown",
   "id": "39adfec2-3396-41f4-9027-566fd9044446",
   "metadata": {
    "deletable": false,
    "editable": false
   },
   "source": [
    "### Mini Lab 2: Local Delivery Audit\n",
    "Price deliveries, summarize by zone, and check a simple fairness rule.\n",
    "\n",
    "Pricing rule\n",
    "- Fee = base_fee[size] + km * per_km.\n",
    "- If zone is in remote_zones, add surcharge + 30.\n",
    "\n",
    "Do:\n",
    "- fee_per_order (dict) and grand total.\n",
    "- revenue_per_zone (dict).\n",
    "- Simple fairness check: if average fee in S exceeds average of all other zones by more than `FAIRNESS_RULE[1] * 30`, then fairness status = \"Review fairness\" else \"OK\"."
   ]
  },
  {
   "cell_type": "code",
   "execution_count": 16,
   "id": "b580db34-d960-4547-b3c8-a976567b7858",
   "metadata": {},
   "outputs": [],
   "source": [
    "order_id = [901, 902, 903, 904, 905]\n",
    "zone     = [\"N\",\"S\",\"N\",\"E\",\"S\"]      # delivery zones\n",
    "km       = [3.0, 12.0, 6.0, 4.5, 15.0]\n",
    "size     = [\"S\",\"L\",\"M\",\"S\",\"L\"]      # parcel size\n",
    "\n",
    "base_fee = {\"S\": 60.0, \"M\": 90.0, \"L\": 120.0}\n",
    "per_km   = 8.0\n",
    "remote_zones = set([\"S\"])             # only basic membership\n",
    "FAIRNESS_RULE = (\"S\", 2)              # tuple: (zone, max allowed above other zones)"
   ]
  },
  {
   "cell_type": "code",
   "execution_count": 17,
   "id": "1c5800b5-426c-4908-9d86-ccd616a41472",
   "metadata": {},
   "outputs": [
    {
     "name": "stdout",
     "output_type": "stream",
     "text": [
      "Fee per order: {901: 84.0, 902: 246.0, 903: 138.0, 904: 96.0, 905: 270.0}\n",
      "\n",
      "Grand Total: 834.0\n",
      "\n",
      "Revenue per Zone: {'N': 222.0, 'S': 516.0, 'E': 96.0}\n",
      "\n",
      "Sum per Zone: {'N': 222.0, 'S': 516.0, 'E': 96.0}\n",
      "\n",
      "Count per Zone: {'N': 2, 'S': 2, 'E': 1}\n",
      "\n",
      "Average per Zone: {'N': 111.0, 'S': 258.0, 'E': 96.0}\n",
      "\n",
      "Fairness Status: Review Fairness\n"
     ]
    }
   ],
   "source": [
    "fee_per_order = {}\n",
    "revenue_per_zone = {}\n",
    "sum_zone = {}\n",
    "count_zone = {}\n",
    "avg_zone = {}\n",
    "\n",
    "grand_total = 0.0\n",
    "\n",
    "for o_id, zo, kilo, sz in zip(order_id, zone, km, size):\n",
    "\n",
    "    #fee of orders\n",
    "    if sz in base_fee:\n",
    "        fee = base_fee[sz] + kilo * per_km\n",
    "    else:\n",
    "        fee = kilo * per_km\n",
    "\n",
    "    # +30 Surcharge Fee\n",
    "    if zo in remote_zones:\n",
    "        fee += 30\n",
    "\n",
    "    fee_per_order[o_id] = fee\n",
    "    grand_total += fee\n",
    "\n",
    "    #Revenue per Zone\n",
    "    if zo in revenue_per_zone:\n",
    "        revenue_per_zone[zo] += fee\n",
    "        sum_zone[zo] += fee\n",
    "        count_zone[zo] += 1\n",
    "    else:\n",
    "        revenue_per_zone[zo] = fee\n",
    "        sum_zone[zo] = fee\n",
    "        count_zone[zo] = 1\n",
    "\n",
    "# Average Zone\n",
    "for zo in sum_zone:\n",
    "    avg_zone[zo] = sum_zone[zo] / count_zone[zo]\n",
    "\n",
    "# Fairness Rule\n",
    "target_zone = FAIRNESS_RULE[0]\n",
    "multiplier = FAIRNESS_RULE[1]\n",
    "\n",
    "#Computer average of other zones\n",
    "sum_other = 0.0\n",
    "count_other = 0.0\n",
    "\n",
    "for zo in avg_zone:\n",
    "    if zo != target_zone:\n",
    "        sum_other += avg_zone[zo]\n",
    "        count_other += 1\n",
    "\n",
    "if count_other == 0:\n",
    "    avg_other = 0.0\n",
    "else:\n",
    "    avg_other = sum_other / count_other\n",
    "\n",
    "if (target_zone in avg_zone) and (avg_zone[target_zone] > avg_other + (multiplier * 30)):\n",
    "    fairness_status = 'Review Fairness'\n",
    "else:\n",
    "    fairness_status = 'OK'\n",
    "\n",
    "# PRINT OUTPUTS\n",
    "print(f'Fee per order: {fee_per_order}')\n",
    "print()\n",
    "print(f'Grand Total: {grand_total}')\n",
    "print()\n",
    "print(f'Revenue per Zone: {revenue_per_zone}')\n",
    "print()\n",
    "print(f'Sum per Zone: {sum_zone}')\n",
    "print()\n",
    "print(f'Count per Zone: {count_zone}')\n",
    "print()\n",
    "print(f'Average per Zone: {avg_zone}')\n",
    "print()\n",
    "print(f'Fairness Status: {fairness_status}')"
   ]
  },
  {
   "cell_type": "markdown",
   "id": "b3e2ca9c-4fa3-44d1-bc72-2aff04bd9ac7",
   "metadata": {
    "deletable": false,
    "editable": false
   },
   "source": [
    "### Mini Lab: Day of Orders\n",
    "Follow the steps and provide the report summary needed\n",
    "\n",
    "\n",
    "Report Summary:\n",
    "- Paid Orders\n",
    "- Unique Customers\n",
    "- Gross Revenue\n",
    "- Net Revenue\n",
    "- Revenue per City\n",
    "- Revenue per item\n",
    "- Revenue per channel\n",
    "- Revenue per (city, channel)\n",
    "- Order per customer\n",
    "- Top item by revenue\n",
    "- Top city by NET\n",
    "- Label status"
   ]
  },
  {
   "cell_type": "code",
   "execution_count": 1,
   "id": "a564f928-ae85-474c-b22d-ee0f2d650101",
   "metadata": {},
   "outputs": [],
   "source": [
    "# \n",
    "order_id = [2001, 2002, 2003, 2004, 2005, 2006]\n",
    "customer = [\"Ana\", \"Ben\", \"Ana\", \"Cara\", \"Don\", \"Ben\"]\n",
    "city_raw = [\"Cebu\", \"cebu \", \"Manila\", \"cebu\", \"Davao\", \" MANILA \"]\n",
    "item     = [\"Latte\", \"Muffin\", \"Latte\", \"Tea\", \"Latte\", \"Tea\"]\n",
    "qty      = [2, 3, 1, 2, 1, 4]\n",
    "channel  = [\"app\", \"web\", \"app\", \"app\", \"web\", \"web\"]\n",
    "paid     = [True, False, True, True, True, True]\n",
    "\n",
    "# Price table \n",
    "price = {\"Latte\": 150.0, \"Tea\": 90.0, \"Muffin\": 75.0}\n",
    "\n",
    "# Delivery/processing fee per channel)\n",
    "fee_by_channel = {\"app\": 20.0, \"web\": 10.0}\n",
    "\n",
    "# Target thresholds  (revenue_target, min_unique_customers)\n",
    "targets = (800.0, 4)  "
   ]
  },
  {
   "cell_type": "code",
   "execution_count": null,
   "id": "27d3af86-79ed-48ec-aed4-cb73ebf61a2b",
   "metadata": {},
   "outputs": [],
   "source": [
    "# Helper Functions\n",
    "def add_amount(d,key,amount):\n",
    "    if key in d:\n",
    "        d[key] = d[key] + amount\n",
    "    else:\n",
    "        d[key] = amount\n",
    "\n",
    "def clean_city(city):\n",
    "    return city.strip().lower()\n",
    "\n",
    "\n",
    "# Unpacked targets\n",
    "revenue_target, min_unique_cost = targets"
   ]
  },
  {
   "cell_type": "markdown",
   "id": "1c04b32e-96e2-4ead-a871-3150f8f07264",
   "metadata": {},
   "source": [
    "#### 1: Build a cleaned city list (use the provided function)"
   ]
  },
  {
   "cell_type": "code",
   "execution_count": 3,
   "id": "d8393734-f6e5-4f74-829f-01dc7477821a",
   "metadata": {},
   "outputs": [
    {
     "data": {
      "text/plain": [
       "['cebu', 'cebu', 'manila', 'cebu', 'davao', 'manila']"
      ]
     },
     "execution_count": 3,
     "metadata": {},
     "output_type": "execute_result"
    }
   ],
   "source": [
    "cleaned_city = []\n",
    "\n",
    "for ci in city_raw:\n",
    "    cleaned_city.append(clean_city(ci))\n",
    "\n",
    "cleaned_city"
   ]
  },
  {
   "cell_type": "markdown",
   "id": "ec4e6dde-f361-4507-ba6f-48373c669dc0",
   "metadata": {},
   "source": [
    "#### 2. Keep only paid rows (create new filtered list)\n",
    "Loop with zip and append to filtered lists only if paid is True (*zip(order_id, customer, city, item, qty, channel, paid)*)"
   ]
  },
  {
   "cell_type": "code",
   "execution_count": 4,
   "id": "67bf62fd-5f7b-420d-abc7-18c587d68e05",
   "metadata": {},
   "outputs": [
    {
     "name": "stdout",
     "output_type": "stream",
     "text": [
      "Paid orders count: 5\n",
      "[(2001, 'Ana', 'cebu', 'Latte', 2, 'app'), (2003, 'Ana', 'manila', 'Latte', 1, 'app'), (2004, 'Cara', 'cebu', 'Tea', 2, 'app'), (2005, 'Don', 'davao', 'Latte', 1, 'web'), (2006, 'Ben', 'manila', 'Tea', 4, 'web')]\n"
     ]
    }
   ],
   "source": [
    "paid_rows = []\n",
    "\n",
    "for ord_id, cus, cl_city, it, quan, cha, pa in zip(order_id, customer, cleaned_city, item, qty, channel, paid):\n",
    "    if pa:\n",
    "        paid_rows.append((ord_id, cus, cl_city, it, quan, cha))\n",
    "\n",
    "print(f\"Paid orders count: {len(paid_rows)}\")\n",
    "print(paid_rows)"
   ]
  },
  {
   "cell_type": "markdown",
   "id": "c69451a3-ab8d-44c5-890c-173ff100de28",
   "metadata": {},
   "source": [
    "#### 3. Compute line totals, Aggregate\n",
    "Loop rows of the filtered list with zip"
   ]
  },
  {
   "cell_type": "code",
   "execution_count": 5,
   "id": "02e882c7-e012-4920-89c5-07a3f6f0fa83",
   "metadata": {},
   "outputs": [],
   "source": [
    "revenue_per_city = {}       # groupby city sum\n",
    "revenue_per_item = {}       # groupby item sum\n",
    "orders_per_customer = {}    # groupby customer count\n",
    "revenue_per_channel = {}    # groupby channel sum\n",
    "revenue_city_channel = {}   # pivot-lite keyed by (city, channel)\n",
    "\n",
    "grand_revenue = 0.0\n",
    "unique_customers = set()"
   ]
  },
  {
   "cell_type": "code",
   "execution_count": 45,
   "id": "16fbfc7e-7d91-4a8c-b343-f7fdfaf69bd8",
   "metadata": {},
   "outputs": [
    {
     "name": "stdout",
     "output_type": "stream",
     "text": [
      "Ana 300.0\n",
      "Ana 150.0\n",
      "Cara 180.0\n",
      "Don 150.0\n",
      "Ben 360.0\n",
      "Grand Revenue (Gross): 44460.0\n",
      "Unique Customers: 4\n",
      "Revenue per City: {'cebu': 180.0, 'manila': 360.0, 'davao': 150.0}\n",
      "Revenue per Item: {'Latte': 150.0, 'Tea': 360.0}\n",
      "Revenue per Channel: {'app': 180.0, 'web': 360.0}\n",
      "Revenue per (City, Channel): {('cebu', 'app'): 180.0, ('manila', 'app'): 150.0, ('davao', 'web'): 150.0, ('manila', 'web'): 360.0}\n",
      "Orders per Customer: {'Ana': 1, 'Cara': 1, 'Don': 1, 'Ben': 1}\n"
     ]
    }
   ],
   "source": [
    "# ALL CODES IN MINI LAB: DAY OF ORDERS, EXCEPT 1 & 2, ARE CODED BY AI. \n",
    "\n",
    "for ord_id, cus, city, it, quan, cha in paid_rows:\n",
    "    # Compute gross revenue for this order\n",
    "    gross = price.get(it, 0.0) * quan\n",
    "    print(cus,gross)\n",
    "    grand_revenue += gross\n",
    "\n",
    "    \n",
    "    # Track unique customers\n",
    "    unique_customers.add(cus)\n",
    "    \n",
    "    # Aggregate by city\n",
    "    add_amount(revenue_per_city, city, gross)\n",
    "    \n",
    "    # Aggregate by item\n",
    "    add_amount(revenue_per_item, it, gross)\n",
    "    \n",
    "    # Aggregate by channel\n",
    "    add_amount(revenue_per_channel, cha, gross)\n",
    "    \n",
    "    # Aggregate by (city, channel)\n",
    "    add_amount(revenue_city_channel, (city, cha), gross)\n",
    "    \n",
    "    # Count orders per customer\n",
    "    add_amount(orders_per_customer, cus, 1)\n",
    "\n",
    "print(f\"Grand Revenue (Gross): {grand_revenue}\")\n",
    "print(f\"Unique Customers: {len(unique_customers)}\")\n",
    "print(f\"Revenue per City: {revenue_per_city}\")\n",
    "print(f\"Revenue per Item: {revenue_per_item}\")\n",
    "print(f\"Revenue per Channel: {revenue_per_channel}\")\n",
    "print(f\"Revenue per (City, Channel): {revenue_city_channel}\")\n",
    "print(f\"Orders per Customer: {orders_per_customer}\")"
   ]
  },
  {
   "cell_type": "markdown",
   "id": "ba8bdd6f-31d6-49ea-b420-997340dac170",
   "metadata": {},
   "source": [
    "#### 4. Join fee_by_channel to get NET revenue\n",
    "Loop again over filtered rows, compute  *(NET revenue = Gross - fees (channel fee))*"
   ]
  },
  {
   "cell_type": "code",
   "execution_count": 24,
   "id": "78658de0-0119-47dd-952a-a1ffefa80e28",
   "metadata": {},
   "outputs": [],
   "source": [
    "net_revenue_per_city = {}\n",
    "grand_net = 0.0"
   ]
  },
  {
   "cell_type": "code",
   "execution_count": 25,
   "id": "6cbe1087-1b54-47c5-993f-06523ba97ee0",
   "metadata": {},
   "outputs": [
    {
     "name": "stdout",
     "output_type": "stream",
     "text": [
      "Grand NET Revenue: 1060.0\n",
      "NET Revenue per City: {'cebu': 440.0, 'manila': 480.0, 'davao': 140.0}\n"
     ]
    }
   ],
   "source": [
    "for ord_id, cus, city, it, quan, cha in paid_rows:\n",
    "    # Compute gross revenue for this order\n",
    "    gross = price.get(it, 0.0) * quan\n",
    "    \n",
    "    # Get channel fee\n",
    "    fee = fee_by_channel.get(cha, 0.0)\n",
    "    \n",
    "    # NET = Gross - Fee\n",
    "    net = gross - fee\n",
    "    grand_net += net\n",
    "    \n",
    "    # Aggregate NET by city\n",
    "    add_amount(net_revenue_per_city, city, net)\n",
    "\n",
    "print(f\"Grand NET Revenue: {grand_net}\")\n",
    "print(f\"NET Revenue per City: {net_revenue_per_city}\")"
   ]
  },
  {
   "cell_type": "markdown",
   "id": "5d0f5f46-4c2c-4583-bbc3-f0a472b52a4d",
   "metadata": {},
   "source": [
    "#### 5. Simple top findings (no sorting needed)\n",
    "Find top item by revenue and top city by net revenue (sacn dicts)"
   ]
  },
  {
   "cell_type": "code",
   "execution_count": 26,
   "id": "b67e1f7c-92d5-403f-ba90-5a203918d644",
   "metadata": {},
   "outputs": [
    {
     "name": "stdout",
     "output_type": "stream",
     "text": [
      "Top Item by Revenue: Latte (600.0)\n",
      "Top City by NET: manila (480.0)\n"
     ]
    }
   ],
   "source": [
    "# Find top item by revenue (gross)\n",
    "top_item = None\n",
    "max_item_rev = 0.0\n",
    "for it, rev in revenue_per_item.items():\n",
    "    if rev > max_item_rev:\n",
    "        max_item_rev = rev\n",
    "        top_item = it\n",
    "\n",
    "# Find top city by NET revenue\n",
    "top_city_net = None\n",
    "max_city_net = 0.0\n",
    "for city, net in net_revenue_per_city.items():\n",
    "    if net > max_city_net:\n",
    "        max_city_net = net\n",
    "        top_city_net = city\n",
    "\n",
    "print(f\"Top Item by Revenue: {top_item} ({max_item_rev})\")\n",
    "print(f\"Top City by NET: {top_city_net} ({max_city_net})\")"
   ]
  },
  {
   "cell_type": "markdown",
   "id": "de03c649-86f1-4162-b4ce-df4c1031a505",
   "metadata": {},
   "source": [
    "#### 6. Provide label status\n",
    "If grand net is more than or equal to the revenue target and the unique customers is equal or exceed the minimum unique customer then label = Great Day.\n",
    "If not then just put Normal"
   ]
  },
  {
   "cell_type": "markdown",
   "id": "b34f367e-1174-4c3d-8fbd-58ddbda547dc",
   "metadata": {},
   "source": [
    "#### 7.Report Summary\n",
    "- Paid Orders\n",
    "- Unique Customers\n",
    "- Gross Revenue\n",
    "- Net Revenue\n",
    "- Revenue per City\n",
    "- Revenue per item\n",
    "- Revenue per channel\n",
    "- Revenue per (city, channel)\n",
    "- Order per customer\n",
    "- Top item by revenue\n",
    "- Top city by NET\n",
    "- Label status"
   ]
  },
  {
   "cell_type": "code",
   "execution_count": 27,
   "id": "25482daf-910e-4954-b8f1-f6cb0764514b",
   "metadata": {},
   "outputs": [
    {
     "name": "stdout",
     "output_type": "stream",
     "text": [
      "==================================================\n",
      "DAY OF ORDERS - REPORT SUMMARY\n",
      "==================================================\n",
      "Paid Orders: 5\n",
      "Unique Customers: 4\n",
      "Gross Revenue: 1140.0\n",
      "Net Revenue: 1060.0\n",
      "Revenue per City: {'cebu': 480.0, 'manila': 510.0, 'davao': 150.0}\n",
      "Revenue per Item: {'Latte': 600.0, 'Tea': 540.0}\n",
      "Revenue per Channel: {'app': 630.0, 'web': 510.0}\n",
      "Revenue per (City, Channel): {('cebu', 'app'): 480.0, ('manila', 'app'): 150.0, ('davao', 'web'): 150.0, ('manila', 'web'): 360.0}\n",
      "Orders per Customer: {'Ana': 2, 'Cara': 1, 'Don': 1, 'Ben': 1}\n",
      "Top Item by Revenue: Latte (600.0)\n",
      "Top City by NET: manila (480.0)\n",
      "Label Status: Great Day\n",
      "==================================================\n"
     ]
    }
   ],
   "source": [
    "# Unpack targets\n",
    "revenue_target, min_unique_cust = targets\n",
    "\n",
    "# Check if conditions for \"Great Day\" are met\n",
    "if (grand_net >= revenue_target) and (len(unique_customers) >= min_unique_cust):\n",
    "    label = \"Great Day\"\n",
    "else:\n",
    "    label = \"Normal\"\n",
    "\n",
    "# REPORT SUMMARY\n",
    "print(\"=\" * 50)\n",
    "print(\"DAY OF ORDERS - REPORT SUMMARY\")\n",
    "print(\"=\" * 50)\n",
    "print(f\"Paid Orders: {len(paid_rows)}\")\n",
    "print(f\"Unique Customers: {len(unique_customers)}\")\n",
    "print(f\"Gross Revenue: {grand_revenue}\")\n",
    "print(f\"Net Revenue: {grand_net}\")\n",
    "print(f\"Revenue per City: {revenue_per_city}\")\n",
    "print(f\"Revenue per Item: {revenue_per_item}\")\n",
    "print(f\"Revenue per Channel: {revenue_per_channel}\")\n",
    "print(f\"Revenue per (City, Channel): {revenue_city_channel}\")\n",
    "print(f\"Orders per Customer: {orders_per_customer}\")\n",
    "print(f\"Top Item by Revenue: {top_item} ({max_item_rev})\")\n",
    "print(f\"Top City by NET: {top_city_net} ({max_city_net})\")\n",
    "print(f\"Label Status: {label}\")\n",
    "print(\"=\" * 50)"
   ]
  },
  {
   "cell_type": "markdown",
   "id": "307549c8-0376-4080-ae00-03a9e279a7df",
   "metadata": {},
   "source": [
    "Provide your insight/finding on:\n",
    "- What’s the smallest tweak to hit “Great day” (more customers or more revenue)?"
   ]
  },
  {
   "cell_type": "code",
   "execution_count": 28,
   "id": "9f267e35-7a08-4a67-b8e4-6efbfc260e95",
   "metadata": {},
   "outputs": [
    {
     "name": "stdout",
     "output_type": "stream",
     "text": [
      "INSIGHT: Smallest Tweak to Hit 'Great Day'\n",
      "--------------------------------------------------\n",
      "Current NET Revenue: 1060.0\n",
      "NET Revenue Target: 800.0\n",
      "NET Revenue Needed: 0.0\n",
      "\n",
      "Current Unique Customers: 4\n",
      "Minimum Unique Customers: 4\n",
      "Additional Customers Needed: 0\n",
      "\n",
      "Binding Constraint: Revenue (already have enough customers)\n",
      "\n",
      "Option 1: Add 1 new customer ordering 1 Latte via web\n",
      "  - NET contribution: 140\n",
      "  - Would need 0 such orders to meet revenue target\n",
      "\n",
      "Option 2: Add 1 new customer ordering 1 Latte via app\n",
      "  - NET contribution: 130\n",
      "  - Would need 0 such orders to meet revenue target\n",
      "\n",
      "✓ Already a 'Great Day'!\n"
     ]
    }
   ],
   "source": [
    "# INSIGHT: What's the smallest tweak to hit \"Great Day\"?\n",
    "\n",
    "# Calculate how much we're missing\n",
    "net_needed = max(0.0, revenue_target - grand_net)\n",
    "cust_needed = max(0, min_unique_cust - len(unique_customers))\n",
    "\n",
    "print(\"INSIGHT: Smallest Tweak to Hit 'Great Day'\")\n",
    "print(\"-\" * 50)\n",
    "print(f\"Current NET Revenue: {grand_net}\")\n",
    "print(f\"NET Revenue Target: {revenue_target}\")\n",
    "print(f\"NET Revenue Needed: {net_needed}\")\n",
    "print()\n",
    "print(f\"Current Unique Customers: {len(unique_customers)}\")\n",
    "print(f\"Minimum Unique Customers: {min_unique_cust}\")\n",
    "print(f\"Additional Customers Needed: {cust_needed}\")\n",
    "print()\n",
    "\n",
    "# Analyze the binding constraint\n",
    "if (len(unique_customers) < min_unique_cust) and (grand_net < revenue_target):\n",
    "    binding_constraint = \"Both revenue and unique customers\"\n",
    "elif (len(unique_customers) < min_unique_cust):\n",
    "    binding_constraint = \"Unique customers (already met revenue target)\"\n",
    "else:\n",
    "    binding_constraint = \"Revenue (already have enough customers)\"\n",
    "\n",
    "print(f\"Binding Constraint: {binding_constraint}\")\n",
    "print()\n",
    "\n",
    "# Calculate impact of adding one more order\n",
    "# Best item: Latte (150), via web channel (10 fee) gives net = 140\n",
    "# Or via app (20 fee) gives net = 130\n",
    "net_one_latte_web = 150 - 10  # 140\n",
    "net_one_latte_app = 150 - 20  # 130\n",
    "\n",
    "print(\"Option 1: Add 1 new customer ordering 1 Latte via web\")\n",
    "print(f\"  - NET contribution: {net_one_latte_web}\")\n",
    "print(f\"  - Would need {int((net_needed + net_one_latte_web - 1) // net_one_latte_web) if net_needed > 0 else 0} such orders to meet revenue target\")\n",
    "print()\n",
    "print(\"Option 2: Add 1 new customer ordering 1 Latte via app\")\n",
    "print(f\"  - NET contribution: {net_one_latte_app}\")\n",
    "print(f\"  - Would need {int((net_needed + net_one_latte_app - 1) // net_one_latte_app) if net_needed > 0 else 0} such orders to meet revenue target\")\n",
    "print()\n",
    "\n",
    "# Recommendation\n",
    "if cust_needed == 0 and net_needed == 0:\n",
    "    print(\"✓ Already a 'Great Day'!\")\n",
    "elif cust_needed == 1 and net_needed <= 140:\n",
    "    print(\"RECOMMENDATION: Add 1 new customer ordering a Latte via web channel.\")\n",
    "    print(\"This single order would satisfy both constraints (customer count + revenue).\")\n",
    "elif cust_needed > 0:\n",
    "    print(f\"RECOMMENDATION: Focus on acquiring {cust_needed} new unique customer(s).\")\n",
    "    print(\"Each should place at least one high-value order (Latte via web = 140 NET).\")\n",
    "else:\n",
    "    print(f\"RECOMMENDATION: Focus on more revenue from existing customers.\")\n",
    "    print(f\"Need {net_needed:.2f} more NET. Consider upselling higher-margin items.\")"
   ]
  },
  {
   "cell_type": "markdown",
   "id": "91b73f70-c297-4cb9-94e0-caf72c12360a",
   "metadata": {
    "deletable": false,
    "editable": false
   },
   "source": [
    "### Mini-Lab: Ride-Hailing Day — Fares, Payouts, and Health Check\n",
    "\n",
    "Provide your insights/findings on the ff:\n",
    "- Which city contributed the most NET and why (mix of surge, distance, channel)?\n",
    "- If the platform wants higher NET without raising prices, which lever is best (channel fees vs driver_share vs surge policy)?"
   ]
  },
  {
   "cell_type": "code",
   "execution_count": 29,
   "id": "8b4acd59-db6f-46b5-8f28-1faa53d8d888",
   "metadata": {},
   "outputs": [],
   "source": [
    "# ALL CODES IN MINI LAB: RIDE-HAILING DAY ARE CODED BY AI. \n",
    "\n",
    "trip_id = [3101, 3102, 3103, 3104, 3105, 3106, 3107]\n",
    "rider   = [\"Ana\",\"Ben\",\"Ana\",\"Cara\",\"Don\",\"Eva\",\"Ben\"]\n",
    "driver  = [\"D1\",\"D2\",\"D1\",\"D3\",\"D2\",\"D2\",\"D3\"]\n",
    "city_raw= [\"Cebu\",\"cebu \",\"Manila\",\"Cebu\",\"Davao\",\" MANILA \",\"Davao\"]\n",
    "service = [\"eco\",\"eco\",\"premium\",\"eco\",\"premium\",\"eco\",\"eco\"]\n",
    "km      = [3.5, 12.0, 8.0, 5.0, 10.0, 4.0, 7.5]\n",
    "period  = [\"off\",\"peak\",\"off\",\"peak\",\"peak\",\"off\",\"off\"]\n",
    "channel = [\"app\",\"partner\",\"app\",\"app\",\"partner\",\"web\",\"app\"]\n",
    "paid    = [True, True, True, False, True, True, True]  # one unpaid/cancelled\n",
    "\n",
    "# Lookup tables\n",
    "rate_per_km = {\"eco\": 15.0, \"premium\": 30.0}\n",
    "surge_mult  = {\"peak\": 1.5, \"off\": 1.0}\n",
    "booking_fee_by_channel = {\"app\": 12.0, \"partner\": 8.0, \"web\": 10.0}\n",
    "\n",
    "# Payout rule: driver receives 75% of the distance component (not the booking fee)\n",
    "driver_share = 0.75\n",
    "\n",
    "# Health targets: (net_target, max_cancel_rate, min_unique_riders)\n",
    "targets = (1200.0, 0.20, 4)\n"
   ]
  },
  {
   "cell_type": "markdown",
   "id": "bdc862a1-5f9a-49db-b88f-e5361ac3bd36",
   "metadata": {},
   "source": [
    "#### 1: Build a cleaned city list (use the provided function)"
   ]
  },
  {
   "cell_type": "code",
   "execution_count": 30,
   "id": "e020add8-967b-466a-bc10-dc5766bf050d",
   "metadata": {},
   "outputs": [
    {
     "name": "stdout",
     "output_type": "stream",
     "text": [
      "['cebu', 'cebu', 'manila', 'cebu', 'davao', 'manila', 'davao']\n"
     ]
    }
   ],
   "source": [
    "# Build cleaned city list\n",
    "cleaned_city = [clean_city(ci) for ci in city_raw]\n",
    "print(cleaned_city)"
   ]
  },
  {
   "cell_type": "markdown",
   "id": "773fc546-aa55-4878-8344-1cabbb5429bd",
   "metadata": {},
   "source": [
    "#### 2. Filter to Paid Trips\n",
    "Append to filtered list if paid and compute for the cancellation rate (% of those who cancelled)"
   ]
  },
  {
   "cell_type": "code",
   "execution_count": 31,
   "id": "73ec3f1e-ab69-4530-ba62-0a02fa5efff3",
   "metadata": {},
   "outputs": [
    {
     "ename": "ValueError",
     "evalue": "not enough values to unpack (expected 9, got 8)",
     "output_type": "error",
     "traceback": [
      "\u001b[1;31m---------------------------------------------------------------------------\u001b[0m",
      "\u001b[1;31mValueError\u001b[0m                                Traceback (most recent call last)",
      "Cell \u001b[1;32mIn[31], line 6\u001b[0m\n\u001b[0;32m      3\u001b[0m total_trips \u001b[38;5;241m=\u001b[39m \u001b[38;5;28mlen\u001b[39m(trip_id)\n\u001b[0;32m      4\u001b[0m cancelled_count \u001b[38;5;241m=\u001b[39m \u001b[38;5;241m0\u001b[39m\n\u001b[1;32m----> 6\u001b[0m \u001b[38;5;28;01mfor\u001b[39;00m t_id, rid, drv, city, srv, kilo, per, cha, pa \u001b[38;5;129;01min\u001b[39;00m \u001b[38;5;28mzip\u001b[39m(trip_id, rider, cleaned_city, service, km, period, channel, paid):\n\u001b[0;32m      7\u001b[0m     \u001b[38;5;28;01mif\u001b[39;00m pa:\n\u001b[0;32m      8\u001b[0m         paid_rows\u001b[38;5;241m.\u001b[39mappend((t_id, rid, drv, city, srv, kilo, per, cha))\n",
      "\u001b[1;31mValueError\u001b[0m: not enough values to unpack (expected 9, got 8)"
     ]
    }
   ],
   "source": [
    "# Filter to paid trips\n",
    "paid_rows = []\n",
    "total_trips = len(trip_id)\n",
    "cancelled_count = 0\n",
    "\n",
    "for t_id, rid, drv, city, srv, kilo, per, cha, pa in zip(trip_id, rider, cleaned_city, service, km, period, channel, paid):\n",
    "    if pa:\n",
    "        paid_rows.append((t_id, rid, drv, city, srv, kilo, per, cha))\n",
    "    else:\n",
    "        cancelled_count += 1\n",
    "\n",
    "paid_trips_count = len(paid_rows)\n",
    "print(f\"Paid Trips: {paid_trips_count}\")\n",
    "print(f\"Cancelled/Unpaid: {cancelled_count}\")\n",
    "print(f\"Total Trips: {total_trips}\")"
   ]
  },
  {
   "cell_type": "code",
   "execution_count": null,
   "id": "e8cb0ae4-d437-43ad-82f8-9d799e3784d5",
   "metadata": {},
   "outputs": [],
   "source": [
    "# Compute cancellation rate\n",
    "cancel_rate = cancelled_count / total_trips if total_trips > 0 else 0.0\n",
    "print(f\"Cancellation Rate: {cancel_rate:.2%}\")"
   ]
  },
  {
   "cell_type": "markdown",
   "id": "6e267f5c-1008-4f0b-8f2a-61f037688564",
   "metadata": {},
   "source": [
    "#### 3. Compute for Gross Fare and Aggregates\n",
    "- Fare per trip: base_component = km * rate_per_km[service] * surge_mult[period]\n",
    "- gross_fare = base_component + booking_fee_by_channel[channel]"
   ]
  },
  {
   "cell_type": "code",
   "execution_count": null,
   "id": "a9d23d99-5c4c-4e5d-9938-dc8e76d39ec3",
   "metadata": {},
   "outputs": [],
   "source": [
    "gross_per_city     = {}\n",
    "gross_per_service  = {}\n",
    "gross_per_channel  = {}\n",
    "gross_city_service = {}   # keyed by (city, service)\n",
    "payout_per_driver  = {}\n",
    "orders_per_rider   = {}\n",
    "\n",
    "grand_gross = 0.0\n",
    "unique_riders = set()"
   ]
  },
  {
   "cell_type": "code",
   "execution_count": null,
   "id": "bb4cc680-4b6c-47d6-95f1-5a739d73894e",
   "metadata": {},
   "outputs": [],
   "source": [
    "for t_id, rid, drv, city, srv, kilo, per, cha in paid_rows:\n",
    "    # Compute base component: km * rate * surge\n",
    "    base_component = kilo * rate_per_km[srv] * surge_mult[per]\n",
    "    \n",
    "    # Get booking fee\n",
    "    booking_fee = booking_fee_by_channel[cha]\n",
    "    \n",
    "    # Gross fare\n",
    "    gross_fare = base_component + booking_fee\n",
    "    grand_gross += gross_fare\n",
    "    \n",
    "    # Track unique riders\n",
    "    unique_riders.add(rid)\n",
    "    \n",
    "    # Aggregate gross by city\n",
    "    add_amount(gross_per_city, city, gross_fare)\n",
    "    \n",
    "    # Aggregate gross by service\n",
    "    add_amount(gross_per_service, srv, gross_fare)\n",
    "    \n",
    "    # Aggregate gross by channel\n",
    "    add_amount(gross_per_channel, cha, gross_fare)\n",
    "    \n",
    "    # Aggregate gross by (city, service)\n",
    "    add_amount(gross_city_service, (city, srv), gross_fare)\n",
    "    \n",
    "    # Compute driver payout (75% of base component)\n",
    "    driver_payout = base_component * driver_share\n",
    "    add_amount(payout_per_driver, drv, driver_payout)\n",
    "    \n",
    "    # Count orders per rider\n",
    "    add_amount(orders_per_rider, rid, 1)\n",
    "\n",
    "print(f\"Grand Gross: {grand_gross}\")\n",
    "print(f\"Unique Riders: {len(unique_riders)}\")\n",
    "print(f\"Gross per City: {gross_per_city}\")\n",
    "print(f\"Gross per Service: {gross_per_service}\")\n",
    "print(f\"Gross per Channel: {gross_per_channel}\")\n",
    "print(f\"Gross per (City, Service): {gross_city_service}\")\n",
    "print(f\"Payout per Driver: {payout_per_driver}\")\n",
    "print(f\"Orders per Rider: {orders_per_rider}\")"
   ]
  },
  {
   "cell_type": "markdown",
   "id": "22452dfe-6a2f-4b10-8126-8ad270ff6a7f",
   "metadata": {},
   "source": [
    "#### 4. Compute for Platform NET\n",
    "- net per trip = (base_component - driver_payout) + booking_fee <br>\n",
    "(simplified: *base_component * (1-driver_share) + fee*)"
   ]
  },
  {
   "cell_type": "code",
   "execution_count": null,
   "id": "9e91ecc8-eb52-486e-87bb-ec3038e728eb",
   "metadata": {},
   "outputs": [],
   "source": [
    "net_per_city = {}\n",
    "grand_net = 0.0"
   ]
  },
  {
   "cell_type": "code",
   "execution_count": null,
   "id": "6ef5f8e2-a1a4-47c1-b49f-f8576b39decf",
   "metadata": {},
   "outputs": [],
   "source": [
    "for t_id, rid, drv, city, srv, kilo, per, cha in paid_rows:\n",
    "    # Compute base component\n",
    "    base_component = kilo * rate_per_km[srv] * surge_mult[per]\n",
    "    \n",
    "    # Get booking fee\n",
    "    booking_fee = booking_fee_by_channel[cha]\n",
    "    \n",
    "    # Driver payout\n",
    "    driver_payout = base_component * driver_share\n",
    "    \n",
    "    # Platform NET = (base_component - driver_payout) + booking_fee\n",
    "    # Simplified: base_component * (1 - driver_share) + booking_fee\n",
    "    net = base_component * (1 - driver_share) + booking_fee\n",
    "    grand_net += net\n",
    "    \n",
    "    # Aggregate NET by city\n",
    "    add_amount(net_per_city, city, net)\n",
    "\n",
    "print(f\"Grand NET Revenue: {grand_net}\")\n",
    "print(f\"NET Revenue per City: {net_per_city}\")"
   ]
  },
  {
   "cell_type": "markdown",
   "id": "74b708f2-2cfe-43a6-8484-2740c6fd2335",
   "metadata": {},
   "source": [
    "#### 5. Top Findings"
   ]
  },
  {
   "cell_type": "code",
   "execution_count": null,
   "id": "d3794ee9-2af3-4785-b804-45747daf7762",
   "metadata": {},
   "outputs": [],
   "source": [
    "top_service = None\n",
    "\n",
    "top_city_net = None"
   ]
  },
  {
   "cell_type": "code",
   "execution_count": null,
   "id": "ce1fe7b7-155c-4af7-ad57-f32a2ea1f8f2",
   "metadata": {},
   "outputs": [],
   "source": [
    "# Find top service by gross revenue\n",
    "max_srv_rev = 0.0\n",
    "for srv, rev in gross_per_service.items():\n",
    "    if rev > max_srv_rev:\n",
    "        max_srv_rev = rev\n",
    "        top_service = srv\n",
    "\n",
    "# Find top city by NET revenue\n",
    "max_city_net = 0.0\n",
    "for city, net in net_per_city.items():\n",
    "    if net > max_city_net:\n",
    "        max_city_net = net\n",
    "        top_city_net = city\n",
    "\n",
    "print(f\"Top Service by Gross: {top_service} ({max_srv_rev})\")\n",
    "print(f\"Top City by NET: {top_city_net} ({max_city_net})\")"
   ]
  },
  {
   "cell_type": "markdown",
   "id": "a79d456a-76cf-43f5-a8a5-7e4c1eff372c",
   "metadata": {},
   "source": [
    "#### 6. Label\n",
    "\"Healthy\" if \n",
    "- grand_net >= net_target AND cancel_rate <= max_cancel_rate AND unique riders >= min_unique_riders\n",
    "\n",
    "Else - label: Review"
   ]
  },
  {
   "cell_type": "code",
   "execution_count": null,
   "id": "f59cc05f-d88b-4bde-9077-3c7d4cf35ecb",
   "metadata": {},
   "outputs": [],
   "source": [
    "# Unpack targets\n",
    "net_target, max_cancel_rate, min_unique_riders = targets\n",
    "\n",
    "# Check health status\n",
    "if (grand_net >= net_target) and (cancel_rate <= max_cancel_rate) and (len(unique_riders) >= min_unique_riders):\n",
    "    label = \"Healthy\"\n",
    "else:\n",
    "    label = \"Review\"\n",
    "\n",
    "print(f\"Health Label: {label}\")\n",
    "print(f\"  Grand NET: {grand_net} (target: {net_target})\")\n",
    "print(f\"  Cancel Rate: {cancel_rate:.2%} (max: {max_cancel_rate:.0%})\")\n",
    "print(f\"  Unique Riders: {len(unique_riders)} (min: {min_unique_riders})\")"
   ]
  },
  {
   "cell_type": "markdown",
   "id": "54f26e9e-bf33-4e7e-87b2-797663a85d88",
   "metadata": {},
   "source": [
    "#### Summary Report\n",
    "- Paid Trips\n",
    "- Unique Riders\n",
    "- Grand Gross\n",
    "- Grand NET\n",
    "- Gross per City\n",
    "- Gross per service\n",
    "- Gross per channel\n",
    "- Gross per (city, service)\n",
    "- Driber payout per driver\n",
    "- Orders per rider\n",
    "- Rop service by Gross\n",
    "- Top city by NET\n",
    "- Label"
   ]
  },
  {
   "cell_type": "code",
   "execution_count": null,
   "id": "17cce281-bb5e-4e84-a683-ce1066f344da",
   "metadata": {},
   "outputs": [],
   "source": [
    "# SUMMARY REPORT\n",
    "print(\"=\" * 60)\n",
    "print(\"RIDE-HAILING DAY - SUMMARY REPORT\")\n",
    "print(\"=\" * 60)\n",
    "print(f\"Paid Trips: {paid_trips_count}\")\n",
    "print(f\"Unique Riders: {len(unique_riders)}\")\n",
    "print(f\"Grand Gross: {grand_gross}\")\n",
    "print(f\"Grand NET: {grand_net}\")\n",
    "print(f\"Cancellation Rate: {cancel_rate:.2%}\")\n",
    "print(f\"Gross per City: {gross_per_city}\")\n",
    "print(f\"Gross per Service: {gross_per_service}\")\n",
    "print(f\"Gross per Channel: {gross_per_channel}\")\n",
    "print(f\"Gross per (City, Service): {gross_city_service}\")\n",
    "print(f\"Driver Payout per Driver: {payout_per_driver}\")\n",
    "print(f\"Orders per Rider: {orders_per_rider}\")\n",
    "print(f\"Top Service by Gross: {top_service} ({max_srv_rev})\")\n",
    "print(f\"Top City by NET: {top_city_net} ({max_city_net})\")\n",
    "print(f\"Label: {label}\")\n",
    "print(\"=\" * 60)\n",
    "print()\n",
    "\n",
    "# INSIGHTS\n",
    "print(\"INSIGHTS & FINDINGS\")\n",
    "print(\"=\" * 60)\n",
    "print()\n",
    "\n",
    "# 1. Which city contributed the most NET and why?\n",
    "print(\"1. Which city contributed the most NET and why?\")\n",
    "print(f\"   Answer: {top_city_net} contributed {max_city_net:.2f} NET revenue\")\n",
    "print()\n",
    "\n",
    "# Analyze why - let's look at the breakdown for this city\n",
    "print(\"   Breakdown for\", top_city_net + \":\")\n",
    "for t_id, rid, drv, city, srv, kilo, per, cha in paid_rows:\n",
    "    if city == top_city_net:\n",
    "        base = kilo * rate_per_km[srv] * surge_mult[per]\n",
    "        booking_fee = booking_fee_by_channel[cha]\n",
    "        net = base * (1 - driver_share) + booking_fee\n",
    "        print(f\"     Trip {t_id}: service={srv}, km={kilo}, period={per}, channel={cha}\")\n",
    "        print(f\"       → Base={base:.2f}, Fee={booking_fee}, NET={net:.2f}\")\n",
    "\n",
    "print()\n",
    "print(\"   Why this city leads:\")\n",
    "# Check if surge pricing played a role\n",
    "surge_trips = sum(1 for t_id, rid, drv, city, srv, kilo, per, cha in paid_rows \n",
    "                  if city == top_city_net and per == \"peak\")\n",
    "total_city_trips = sum(1 for t_id, rid, drv, city, srv, kilo, per, cha in paid_rows \n",
    "                       if city == top_city_net)\n",
    "print(f\"     - {surge_trips}/{total_city_trips} trips during peak (surge pricing)\")\n",
    "\n",
    "# Check premium services\n",
    "premium_trips = sum(1 for t_id, rid, drv, city, srv, kilo, per, cha in paid_rows \n",
    "                    if city == top_city_net and srv == \"premium\")\n",
    "print(f\"     - {premium_trips}/{total_city_trips} were premium service (2x rate)\")\n",
    "\n",
    "# Average distance\n",
    "avg_km = sum(kilo for t_id, rid, drv, city, srv, kilo, per, cha in paid_rows \n",
    "             if city == top_city_net) / total_city_trips if total_city_trips > 0 else 0\n",
    "print(f\"     - Average distance: {avg_km:.2f} km\")\n",
    "print()\n",
    "\n",
    "# 2. Best lever to increase NET without raising prices\n",
    "print(\"2. If the platform wants higher NET without raising prices,\")\n",
    "print(\"   which lever is best (channel fees vs driver_share vs surge policy)?\")\n",
    "print()\n",
    "\n",
    "# Analyze current NET composition\n",
    "total_from_driver_margin = 0.0\n",
    "total_from_booking_fees = 0.0\n",
    "\n",
    "for t_id, rid, drv, city, srv, kilo, per, cha in paid_rows:\n",
    "    base = kilo * rate_per_km[srv] * surge_mult[per]\n",
    "    booking_fee = booking_fee_by_channel[cha]\n",
    "    total_from_driver_margin += base * (1 - driver_share)\n",
    "    total_from_booking_fees += booking_fee\n",
    "\n",
    "print(f\"   Current NET composition:\")\n",
    "print(f\"     - From driver margin (25% of base): {total_from_driver_margin:.2f} ({total_from_driver_margin/grand_net*100:.1f}%)\")\n",
    "print(f\"     - From booking fees: {total_from_booking_fees:.2f} ({total_from_booking_fees/grand_net*100:.1f}%)\")\n",
    "print()\n",
    "\n",
    "# Simulate scenarios\n",
    "print(\"   Scenario Analysis:\")\n",
    "print()\n",
    "\n",
    "# Scenario 1: Increase driver_share from 0.75 to 0.70 (driver gets 70% instead of 75%)\n",
    "new_driver_share = 0.70\n",
    "new_net_scenario1 = 0.0\n",
    "for t_id, rid, drv, city, srv, kilo, per, cha in paid_rows:\n",
    "    base = kilo * rate_per_km[srv] * surge_mult[per]\n",
    "    booking_fee = booking_fee_by_channel[cha]\n",
    "    new_net_scenario1 += base * (1 - new_driver_share) + booking_fee\n",
    "gain_scenario1 = new_net_scenario1 - grand_net\n",
    "print(f\"   Scenario 1: Reduce driver share to 70% (from 75%)\")\n",
    "print(f\"     → New NET: {new_net_scenario1:.2f}\")\n",
    "print(f\"     → Gain: {gain_scenario1:.2f} (+{gain_scenario1/grand_net*100:.1f}%)\")\n",
    "print()\n",
    "\n",
    "# Scenario 2: Increase all booking fees by 2\n",
    "new_net_scenario2 = 0.0\n",
    "for t_id, rid, drv, city, srv, kilo, per, cha in paid_rows:\n",
    "    base = kilo * rate_per_km[srv] * surge_mult[per]\n",
    "    booking_fee = booking_fee_by_channel[cha] + 2\n",
    "    new_net_scenario2 += base * (1 - driver_share) + booking_fee\n",
    "gain_scenario2 = new_net_scenario2 - grand_net\n",
    "print(f\"   Scenario 2: Increase all channel booking fees by 2\")\n",
    "print(f\"     → New NET: {new_net_scenario2:.2f}\")\n",
    "print(f\"     → Gain: {gain_scenario2:.2f} (+{gain_scenario2/grand_net*100:.1f}%)\")\n",
    "print()\n",
    "\n",
    "# Scenario 3: Shift more trips to app channel (highest fee)\n",
    "# Count current channel distribution\n",
    "app_trips = sum(1 for _, _, _, _, _, _, _, cha in paid_rows if cha == \"app\")\n",
    "print(f\"   Scenario 3: Shift more trips to 'app' channel (highest fee: 12)\")\n",
    "print(f\"     → Current app trips: {app_trips}/{paid_trips_count}\")\n",
    "print(f\"     → Potential: Each trip shifted from partner (8) to app (12) gains 4 NET\")\n",
    "print()\n",
    "\n",
    "print(\"   RECOMMENDATION:\")\n",
    "print(\"     Best lever: CHANNEL FEES\")\n",
    "print(\"     Rationale:\")\n",
    "print(\"       - Increasing booking fees has immediate, linear impact on NET\")\n",
    "print(\"       - Less controversial than reducing driver share (driver retention risk)\")\n",
    "print(\"       - Easier to implement than surge policy changes (regulatory/UX concerns)\")\n",
    "print(\"       - Can be targeted by channel (e.g., incentivize app usage)\")\n",
    "print(\"=\" * 60)"
   ]
  }
 ],
 "metadata": {
  "kernelspec": {
   "display_name": "base",
   "language": "python",
   "name": "python3"
  },
  "language_info": {
   "codemirror_mode": {
    "name": "ipython",
    "version": 3
   },
   "file_extension": ".py",
   "mimetype": "text/x-python",
   "name": "python",
   "nbconvert_exporter": "python",
   "pygments_lexer": "ipython3",
   "version": "3.13.5"
  }
 },
 "nbformat": 4,
 "nbformat_minor": 5
}
