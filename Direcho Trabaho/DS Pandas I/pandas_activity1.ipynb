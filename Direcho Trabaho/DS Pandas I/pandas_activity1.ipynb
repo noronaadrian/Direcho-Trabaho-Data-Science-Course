{
 "cells": [
  {
   "cell_type": "markdown",
   "id": "c28a2c2b",
   "metadata": {},
   "source": [
    "# 🧪 Mini Lab: Pandas Basics — Fitness Tracker Analysis\n",
    "\n",
    "**Dataset:** `fitness_tracker.csv`\n",
    "\n",
    "> Use this notebook to complete the lab. Follow the instructions in each section.\n",
    "> Do **not** include solutions in this file if you're submitting as an assignment.\n"
   ]
  },
  {
   "cell_type": "markdown",
   "id": "22f08ba2",
   "metadata": {},
   "source": [
    "## 🎯 Objective\n",
    "Practice foundational pandas operations using a small fitness tracker dataset.\n",
    "You'll apply what you've learned so far: loading, inspecting, sorting, working with columns, string operations,\n",
    "unique values, concatenation, and saving.\n"
   ]
  },
  {
   "cell_type": "markdown",
   "id": "b7ecddd8",
   "metadata": {},
   "source": [
    "## 🛠 Setup\n",
    "Make sure `pandas` is installed. The dataset should be in the same folder as this notebook.\n",
    "\n",
    "If needed, install:\n",
    "```bash\n",
    "pip install pandas\n",
    "```\n"
   ]
  },
  {
   "cell_type": "markdown",
   "id": "49464bec",
   "metadata": {},
   "source": [
    "## 📂 Step 1: Load the Data\n",
    "1. Import pandas as `pd`.\n",
    "2. Load the CSV file into a DataFrame called `df`.\n",
    "3. Display the first 5 rows.\n",
    "4. Show the DataFrame’s shape and info summary.\n"
   ]
  },
  {
   "cell_type": "code",
   "execution_count": null,
   "id": "cfac0f18",
   "metadata": {},
   "outputs": [],
   "source": [
    "# === Step 1: Load the Data (Instructions Only) ===\n",
    "# TODO:\n",
    "# 1) import pandas as pd\n",
    "# 2) df = pd.read_csv('fitness_tracker.csv')\n",
    "# 3) display first 5 rows\n",
    "# 4) show shape and info\n"
   ]
  },
  {
   "cell_type": "markdown",
   "id": "0d6c576c",
   "metadata": {},
   "source": [
    "## 📊 Step 2: Inspect and Sort\n",
    "1. Sort the DataFrame by `Calories_burned` in descending order.\n",
    "2. Sort again by `Duration_min` in ascending order.\n",
    "3. Print only the top 3 rows after sorting by calories.\n"
   ]
  },
  {
   "cell_type": "code",
   "execution_count": null,
   "id": "07856dc8",
   "metadata": {},
   "outputs": [],
   "source": [
    "# === Step 2: Inspect and Sort (Instructions Only) ===\n",
    "# TODO:\n",
    "# - sort by 'Calories_burned' descending\n",
    "# - sort by 'Duration_min' ascending\n",
    "# - print top 3 rows after sorting by calories\n"
   ]
  },
  {
   "cell_type": "markdown",
   "id": "80e75960",
   "metadata": {},
   "source": [
    "## 🧱 Step 3: Work with Columns\n",
    "1. Rename the column `Duration_min` → `DurationMinutes`.\n",
    "2. Add a new column called `Calories_per_min` = `Calories_burned` / `DurationMinutes`.\n",
    "3. Drop the column `Date`.\n",
    "4. Replace any missing `Calories_burned` values with `0`.\n"
   ]
  },
  {
   "cell_type": "code",
   "execution_count": null,
   "id": "0626576b",
   "metadata": {},
   "outputs": [],
   "source": [
    "# === Step 3: Work with Columns (Instructions Only) ===\n",
    "# TODO:\n",
    "# - rename 'Duration_min' to 'DurationMinutes'\n",
    "# - create 'Calories_per_min' as Calories_burned / DurationMinutes\n",
    "# - drop 'Date'\n",
    "# - replace missing values in 'Calories_burned' with 0\n"
   ]
  },
  {
   "cell_type": "markdown",
   "id": "2518f189",
   "metadata": {},
   "source": [
    "## 🧵 Step 4: String Operations\n",
    "1. Convert all `Activity` names to lowercase.\n",
    "2. Replace any occurrence of `\"run\"` with `\"running\"` in the `Activity` column.\n",
    "3. Extract only the first 3 letters of each `Device` value and store it in a new column called `Device_Code`.\n"
   ]
  },
  {
   "cell_type": "code",
   "execution_count": null,
   "id": "e19d1630",
   "metadata": {},
   "outputs": [],
   "source": [
    "# === Step 4: String Operations (Instructions Only) ===\n",
    "# TODO:\n",
    "# - to lowercase on 'Activity'\n",
    "# - replace 'run' with 'running' in 'Activity'\n",
    "# - create 'Device_Code' as first 3 letters of 'Device'\n"
   ]
  },
  {
   "cell_type": "markdown",
   "id": "6b95a64e",
   "metadata": {},
   "source": [
    "## 🔍 Step 5: Exploring Values\n",
    "1. Show all **unique activities**.\n",
    "2. Display how many **unique devices** there are.\n",
    "3. Count how many times each activity appears.\n"
   ]
  },
  {
   "cell_type": "code",
   "execution_count": null,
   "id": "f8d11fce",
   "metadata": {},
   "outputs": [],
   "source": [
    "# === Step 5: Exploring Values (Instructions Only) ===\n",
    "# TODO:\n",
    "# - show unique activities\n",
    "# - count unique devices\n",
    "# - show counts per activity\n"
   ]
  },
  {
   "cell_type": "markdown",
   "id": "cf5482f5",
   "metadata": {},
   "source": [
    "## 🧩 Step 6: Concatenate\n",
    "1. Create a new small DataFrame with two new rows (pick any made-up users).\n",
    "2. Concatenate this new DataFrame with the original one.\n",
    "3. Display the new shape of the combined DataFrame.\n"
   ]
  },
  {
   "cell_type": "code",
   "execution_count": null,
   "id": "083550de",
   "metadata": {},
   "outputs": [],
   "source": [
    "# === Step 6: Concatenate (Instructions Only) ===\n",
    "# TODO:\n",
    "# - create a small new DataFrame with 2 rows matching the original schema\n",
    "# - concatenate with the original df\n",
    "# - display new shape\n"
   ]
  },
  {
   "cell_type": "markdown",
   "id": "def17b15",
   "metadata": {},
   "source": [
    "## 💾 Step 7: Save Your Work\n",
    "1. Save the final version of your DataFrame as `fitness_tracker_cleaned.csv`.\n"
   ]
  },
  {
   "cell_type": "code",
   "execution_count": null,
   "id": "0f4b3bfd",
   "metadata": {},
   "outputs": [],
   "source": [
    "# === Step 7: Save Your Work (Instructions Only) ===\n",
    "# TODO:\n",
    "# - save the final DataFrame to 'fitness_tracker_cleaned.csv' (index=False)\n"
   ]
  },
  {
   "cell_type": "markdown",
   "id": "2466db7c",
   "metadata": {},
   "source": [
    "---\n",
    "\n",
    "✅ **End of Lab**  \n"
   ]
  },
  {
   "cell_type": "code",
   "execution_count": null,
   "id": "15978b80-1bb2-4451-96b4-8c36e6c73c14",
   "metadata": {},
   "outputs": [],
   "source": []
  }
 ],
 "metadata": {
  "kernelspec": {
   "display_name": "Python 3 (ipykernel)",
   "language": "python",
   "name": "python3"
  },
  "language_info": {
   "codemirror_mode": {
    "name": "ipython",
    "version": 3
   },
   "file_extension": ".py",
   "mimetype": "text/x-python",
   "name": "python",
   "nbconvert_exporter": "python",
   "pygments_lexer": "ipython3",
   "version": "3.12.7"
  }
 },
 "nbformat": 4,
 "nbformat_minor": 5
}
